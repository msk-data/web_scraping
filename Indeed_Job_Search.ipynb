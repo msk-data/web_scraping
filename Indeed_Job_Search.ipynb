{
 "cells": [
  {
   "cell_type": "code",
   "execution_count": 71,
   "id": "4cb58089",
   "metadata": {},
   "outputs": [
    {
     "name": "stdout",
     "output_type": "stream",
     "text": [
      "Getting page, 0\n",
      "Getting page, 10\n",
      "Getting page, 20\n",
      "Getting page, 30\n",
      "                              job_title                       company  \\\n",
      "0                         Data Engineer  Morris Heights Health Center   \n",
      "1  Enterprise Data - Solutions Engineer                     Bloomberg   \n",
      "2                         Data Engineer                       Sightly   \n",
      "3                      newData Engineer                OTG Management   \n",
      "4        newDistinguished Data Engineer                   Capital One   \n",
      "\n",
      "                                      location                      salary  \\\n",
      "0        Bronx, NY 10453 (Morris Heights area)           $38 - $45 an hour   \n",
      "1                                 New York, NY                               \n",
      "2              New York, NY•Temporarily Remote  $110,000 - $140,000 a year   \n",
      "3  New York, NY 10010 (Flatiron District area)                               \n",
      "4               New York, NY 10012 (SoHo area)                               \n",
      "\n",
      "                                             summary  \n",
      "0  \\nThey will work with patients clinical data f...  \n",
      "1  \\nExposure and understanding of financial data...  \n",
      "2  \\nThis role will develop and test data pipelin...  \n",
      "3  \\nBuild and run data pipelines feeding into an...  \n",
      "4  \\n15+ years of experience in data engineering....  \n"
     ]
    }
   ],
   "source": [
    "import requests\n",
    "from bs4 import BeautifulSoup\n",
    "import pandas as pd\n",
    "\n",
    "\n",
    "def extract(page):\n",
    "    headers = {'User-Agent': 'Mozilla/5.0 (Macintosh; Intel Mac OS X 10_15_7) AppleWebKit/537.36 (KHTML, like Gecko) Chrome/92.0.4515.159 Safari/537.36'}\n",
    "    url = f'https://www.indeed.com/jobs?q=data%20engineer&l=New%20York%2C%20NY&start={page}&vjk=97d70eb2f37da8d3'\n",
    "    r = requests.get(url, headers)\n",
    "    soup = BeautifulSoup(r.content, 'lxml')\n",
    "    return soup\n",
    "\n",
    "def transform(soup):\n",
    "    divs_title = soup.find_all('div' , class_ = 'slider_container')\n",
    "    for item in divs_title:\n",
    "        job_title = item.find('h2' , class_ = 'jobTitle').text\n",
    "        company = item.find('span', class_ = 'companyName').text\n",
    "        location = item.find('div', class_ ='companyLocation').text  \n",
    "        try:\n",
    "            salary = item.find('span' , class_ = 'salary-snippet').text\n",
    "        except:\n",
    "            salary = ''\n",
    "        summary = item.find('div' , class_ = 'job-snippet').text\n",
    "        \n",
    "        job = {\n",
    "            'job_title' : job_title,\n",
    "            'company' : company,\n",
    "            'location' : location,\n",
    "            'salary' : salary,\n",
    "            'summary' : summary\n",
    "        }\n",
    "        joblist.append(job)\n",
    "    return\n",
    "        \n",
    "        \n",
    "        \n",
    "joblist = []    \n",
    "\n",
    "for i in range(0,40,10):\n",
    "    print(f'Getting page, {i}')\n",
    "    c=extract(0)\n",
    "    transform(c)\n",
    "    \n",
    "df = pd.DataFrame(joblist)\n",
    "print(df.head())\n",
    "df.to_csv('Indeed_Jobs_Sep_15.csv')"
   ]
  }
 ],
 "metadata": {
  "kernelspec": {
   "display_name": "Python 3 (ipykernel)",
   "language": "python",
   "name": "python3"
  },
  "language_info": {
   "codemirror_mode": {
    "name": "ipython",
    "version": 3
   },
   "file_extension": ".py",
   "mimetype": "text/x-python",
   "name": "python",
   "nbconvert_exporter": "python",
   "pygments_lexer": "ipython3",
   "version": "3.8.10"
  }
 },
 "nbformat": 4,
 "nbformat_minor": 5
}
